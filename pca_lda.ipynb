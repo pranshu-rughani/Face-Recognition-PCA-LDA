{
 "cells": [
  {
   "cell_type": "code",
   "execution_count": 1,
   "metadata": {},
   "outputs": [],
   "source": [
    "import glob\n",
    "import cv2\n",
    "import numpy as np\n",
    "import re"
   ]
  },
  {
   "cell_type": "code",
   "execution_count": 2,
   "metadata": {},
   "outputs": [],
   "source": [
    "def imgageSearch(address):\n",
    "    img_name=glob.glob(str(address))\n",
    "\n",
    "    class_name=[]\n",
    "\n",
    "    pattern=re.compile(r'16BIT\\d\\d\\d')\n",
    "\n",
    "    for i in range(len(img_name)):\n",
    "        match=re.findall(pattern,img_name[i])\n",
    "        class_name.append(match)\n",
    "        \n",
    "    class_name=np.array(class_name)\n",
    "    totalNoOfImages=len(img_name)\n",
    "    class_name=class_name.reshape(totalNoOfImages,)\n",
    "    img=[]\n",
    "\n",
    "    for i in img_name:\n",
    "        c=cv2.imread(i,0)\n",
    "        img.append(c)\n",
    "    img=np.array(img)\n",
    "\n",
    "    return class_name , img"
   ]
  },
  {
   "cell_type": "code",
   "execution_count": 3,
   "metadata": {},
   "outputs": [],
   "source": [
    "address='C:/Users/All/Desktop/Face Recognition/train/*.*'\n",
    "\n",
    "class_name , img = imgageSearch(address)"
   ]
  },
  {
   "cell_type": "code",
   "execution_count": 4,
   "metadata": {},
   "outputs": [],
   "source": [
    "def faceDetection(class_name, img):\n",
    "    face_cascade = cv2.CascadeClassifier('C:/Users/ALL/AppData/Local/Programs/Python/Python37/Scripts/haarcascade_frontalface_default.xml')\n",
    "    faces=[]\n",
    "    classes=[]\n",
    "\n",
    "    for i in range(len(img)):\n",
    "        t=face_cascade.detectMultiScale(img[i], 1.2, 5)\n",
    "        if type(t) != tuple:\n",
    "            if t.shape != (1,4):\n",
    "                (x,y,h,w) = t[0]\n",
    "                faces.append(img[i][y:y+w , x:x+h])\n",
    "                classes.append(class_name[i])\n",
    "            if t.shape == (1,4):\n",
    "                for (x,y,h,w) in t:\n",
    "                    faces.append(img[i][y:y+w , x:x+h])\n",
    "                    classes.append(class_name[i])\n",
    "    faces=np.array(faces)\n",
    "    classes=np.array(classes)\n",
    "\n",
    "\n",
    "    for i in range(len(faces)):\n",
    "        faces[i]=cv2.resize(faces[i],(64,64))\n",
    "    \n",
    "    return classes , faces"
   ]
  },
  {
   "cell_type": "code",
   "execution_count": 5,
   "metadata": {},
   "outputs": [],
   "source": [
    "classes , faces = faceDetection(class_name,img)"
   ]
  },
  {
   "cell_type": "code",
   "execution_count": 6,
   "metadata": {},
   "outputs": [],
   "source": [
    "def vectorFace(faces):\n",
    "    vfaces=[]\n",
    "    \n",
    "    for i in range(len(faces)):\n",
    "        vfaces.append(faces[i].ravel())\n",
    "    \n",
    "    vfaces=np.array(vfaces)\n",
    "    \n",
    "    return vfaces.T"
   ]
  },
  {
   "cell_type": "code",
   "execution_count": 7,
   "metadata": {},
   "outputs": [],
   "source": [
    "vfaces = vectorFace(faces)"
   ]
  },
  {
   "cell_type": "code",
   "execution_count": 8,
   "metadata": {},
   "outputs": [],
   "source": [
    "mean=vfaces.mean(axis=1)\n"
   ]
  },
  {
   "cell_type": "code",
   "execution_count": 9,
   "metadata": {},
   "outputs": [],
   "source": [
    "mfaces=[]\n",
    "(p,n)=vfaces.shape\n",
    "for i in range(n):\n",
    "    mfaces.append(vfaces[:,i]-mean)\n",
    "mfaces=np.array(mfaces)\n",
    "mfaces=mfaces.T"
   ]
  },
  {
   "cell_type": "code",
   "execution_count": 10,
   "metadata": {},
   "outputs": [],
   "source": [
    "j=0\n",
    "co=np.zeros(1)\n",
    "\n",
    "for i in range(len(classes)):\n",
    "    if(i==0):\n",
    "        b=classes[i]\n",
    "        co[j]+=1\n",
    "    else:\n",
    "        a=classes[i]\n",
    "        if(b==a):\n",
    "            co[j]+=1\n",
    "\n",
    "        else:\n",
    "            b=a\n",
    "            j+=1\n",
    "            co=np.append(co,np.zeros(1))\n",
    "            co[j]+=1\n"
   ]
  },
  {
   "cell_type": "code",
   "execution_count": 11,
   "metadata": {},
   "outputs": [],
   "source": [
    "S=mfaces.T@mfaces\n"
   ]
  },
  {
   "cell_type": "code",
   "execution_count": 12,
   "metadata": {},
   "outputs": [],
   "source": [
    "wt,vt = np.linalg.eig(S)"
   ]
  },
  {
   "cell_type": "code",
   "execution_count": 13,
   "metadata": {},
   "outputs": [],
   "source": [
    "order=np.argsort(wt)\n",
    "fliporder=np.flip(order)\n",
    "svt=vt[:,fliporder[:len(co)]]\n"
   ]
  },
  {
   "cell_type": "code",
   "execution_count": 14,
   "metadata": {},
   "outputs": [],
   "source": [
    "ef=mfaces@svt"
   ]
  },
  {
   "cell_type": "code",
   "execution_count": 15,
   "metadata": {},
   "outputs": [],
   "source": [
    "Z=(ef.T)@(mfaces)"
   ]
  },
  {
   "cell_type": "code",
   "execution_count": 16,
   "metadata": {},
   "outputs": [],
   "source": [
    "Z_mean=(Z.mean(axis=1))"
   ]
  },
  {
   "cell_type": "code",
   "execution_count": 17,
   "metadata": {},
   "outputs": [],
   "source": [
    "Z_mean_class = []\n",
    "count=0\n",
    "for i in range(len(co)):\n",
    "    Z_mean_class.append(np.zeros((len(co))))\n",
    "    for j in range(int(co[i])):\n",
    "        Z_mean_class[int(i)]=Z_mean_class[int(i)]+Z[:,int(count)]\n",
    "        count+=1\n",
    "    Z_mean_class[i]=Z_mean_class[i]/co[i]\n",
    "Z_mean_class=np.array(Z_mean_class)\n"
   ]
  },
  {
   "cell_type": "code",
   "execution_count": 18,
   "metadata": {},
   "outputs": [],
   "source": [
    "Sb=np.zeros((len(co),len(co)))\n",
    "\n",
    "for i in range(len(co)):\n",
    "    ans=(((Z_mean_class[i]-Z_mean).reshape(len(co),1))@(((Z_mean_class[i]-Z_mean).reshape(len(co),1)).T))\n",
    "    Sb=Sb+ans"
   ]
  },
  {
   "cell_type": "code",
   "execution_count": 19,
   "metadata": {},
   "outputs": [],
   "source": [
    "Sw=np.zeros((len(co),len(co)))\n",
    "count=0\n",
    "for i in range(len(co)):\n",
    "    for j in range(int(co[i])) :\n",
    "        ans=((Z[:,count]-Z_mean_class[i]).reshape(len(co),1))@((Z[:,count]-Z_mean_class[i]).reshape(len(co),1).T)\n",
    "        Sw=Sw+ans\n",
    "        count+=1"
   ]
  },
  {
   "cell_type": "code",
   "execution_count": 20,
   "metadata": {},
   "outputs": [],
   "source": [
    "va , vec = np.linalg.eig((np.linalg.inv(Sw))@Sb)"
   ]
  },
  {
   "cell_type": "code",
   "execution_count": 21,
   "metadata": {},
   "outputs": [],
   "source": [
    "weights=vec.T@Z"
   ]
  },
  {
   "cell_type": "code",
   "execution_count": 22,
   "metadata": {},
   "outputs": [],
   "source": [
    "address='C:/Users/All/Desktop/Face Recognition/TEST_FINAL_/*.*'\n",
    "\n",
    "class_test , imgt = imgageSearch(address)\n",
    "\n",
    "classest , facest = faceDetection(class_test,imgt)\n",
    "\n",
    "if(len(classest)!=len(class_test)):\n",
    "    print(\"Few test images face weren't detected by haar cascade\")"
   ]
  },
  {
   "cell_type": "code",
   "execution_count": 23,
   "metadata": {},
   "outputs": [],
   "source": [
    "vfacest = vectorFace(facest)"
   ]
  },
  {
   "cell_type": "code",
   "execution_count": 24,
   "metadata": {},
   "outputs": [],
   "source": [
    "mfacest=[]\n",
    "(p,n)=vfacest.shape\n",
    "for i in range(n):\n",
    "    mfacest.append(vfacest[:,i]-mean)\n",
    "mfacest=np.array(mfacest)\n",
    "mfacest=mfacest.T"
   ]
  },
  {
   "cell_type": "code",
   "execution_count": 25,
   "metadata": {},
   "outputs": [],
   "source": [
    "Zt=ef.T@mfacest"
   ]
  },
  {
   "cell_type": "code",
   "execution_count": 26,
   "metadata": {},
   "outputs": [],
   "source": [
    "weightst=vec.T@Zt"
   ]
  },
  {
   "cell_type": "code",
   "execution_count": 27,
   "metadata": {},
   "outputs": [],
   "source": [
    "minans=99999999\n",
    "index=[]\n",
    "(p,d) = weights.shape\n",
    "(k,l) = weightst.shape\n",
    "for i in range(l):\n",
    "    minans=99999999\n",
    "    index.append(0)\n",
    "    for j in range(d):\n",
    "        pqr=np.linalg.norm(weightst[:,i]-weights[:,j])\n",
    "        if(pqr<minans):\n",
    "            minans = pqr\n",
    "            index[i] = j"
   ]
  },
  {
   "cell_type": "code",
   "execution_count": 28,
   "metadata": {},
   "outputs": [
    {
     "name": "stdout",
     "output_type": "stream",
     "text": [
      "Class :- 16BIT015\n",
      "prediction :- 16BIT015\n",
      "Class :- 16BIT018\n",
      "prediction :- 16BIT018\n",
      "Class :- 16BIT019\n",
      "prediction :- 16BIT019\n",
      "Class :- 16BIT025\n",
      "prediction :- 16BIT025\n",
      "Class :- 16BIT029\n",
      "prediction :- 16BIT029\n",
      "Class :- 16BIT031\n",
      "prediction :- 16BIT031\n",
      "Class :- 16BIT036\n",
      "prediction :- 16BIT036\n",
      "Class :- 16BIT038\n",
      "prediction :- 16BIT038\n",
      "Class :- 16BIT039\n",
      "prediction :- 16BIT039\n",
      "Class :- 16BIT045\n",
      "prediction :- 16BIT045\n",
      "Class :- 16BIT049\n",
      "prediction :- 16BIT049\n",
      "Class :- 16BIT051\n",
      "prediction :- 16BIT051\n",
      "Class :- 16BIT052\n",
      "prediction :- 16BIT052\n",
      "Class :- 16BIT053\n",
      "prediction :- 16BIT028\n",
      "Class :- 16BIT054\n",
      "prediction :- 16BIT054\n",
      "Class :- 16BIT055\n",
      "prediction :- 16BIT055\n",
      "Class :- 16BIT056\n",
      "prediction :- 16BIT056\n",
      "Class :- 16BIT057\n",
      "prediction :- 16BIT057\n",
      "Class :- 16BIT058\n",
      "prediction :- 16BIT058\n",
      "Class :- 16BIT059\n",
      "prediction :- 16BIT059\n",
      "Class :- 16BIT060\n",
      "prediction :- 16BIT060\n",
      "Accuracy :- 95.23809523809523\n"
     ]
    }
   ],
   "source": [
    "correct=0\n",
    "for i in range(l):\n",
    "    print(\"Class :-\",classest[i])\n",
    "    print(\"prediction :-\",classes[index[i]])\n",
    "    if(classest[i]==classes[index[i]]):\n",
    "        correct+=1\n",
    "print(\"Accuracy :-\",(correct/l)*100)"
   ]
  }
 ],
 "metadata": {
  "kernelspec": {
   "display_name": "Python 3",
   "language": "python",
   "name": "python3"
  },
  "language_info": {
   "codemirror_mode": {
    "name": "ipython",
    "version": 3
   },
   "file_extension": ".py",
   "mimetype": "text/x-python",
   "name": "python",
   "nbconvert_exporter": "python",
   "pygments_lexer": "ipython3",
   "version": "3.7.2"
  }
 },
 "nbformat": 4,
 "nbformat_minor": 2
}
